{
  "nbformat": 4,
  "nbformat_minor": 0,
  "metadata": {
    "colab": {
      "provenance": []
    },
    "kernelspec": {
      "name": "python3",
      "display_name": "Python 3"
    },
    "language_info": {
      "name": "python"
    }
  },
  "cells": [
    {
      "cell_type": "code",
      "execution_count": 1,
      "metadata": {
        "id": "NaNfPBNxrNwd"
      },
      "outputs": [],
      "source": [
        "from numpy import loadtxt\n",
        "from tensorflow.keras.models import Sequential\n",
        "from tensorflow.keras.layers import Dense\n",
        "import numpy as np\n",
        "import pandas as pd\n",
        "from sklearn import preprocessing\n",
        "import seaborn as sns\n",
        "import matplotlib.pyplot as plt\n",
        "from sklearn.model_selection import train_test_split"
      ]
    },
    {
      "cell_type": "code",
      "source": [
        "data = pd.read_csv('diabetes.csv', delimiter=',')\n",
        "print(data.shape)\n",
        "# data = data.loc[~((data['Glucose'] == 0) | (data['BloodPressure'] == 0)|(data['SkinThickness'] == 0) | (data['BMI'] == 0))]\n",
        "data.replace(0,data.mean(axis=0),inplace=True)\n",
        "print(data.shape)\n",
        "print(data.describe().T)"
      ],
      "metadata": {
        "colab": {
          "base_uri": "https://localhost:8080/"
        },
        "id": "SMS5k6uwZWXe",
        "outputId": "1c4589d2-c7c2-45aa-c54f-97e4b23f81f7"
      },
      "execution_count": 2,
      "outputs": [
        {
          "output_type": "stream",
          "name": "stdout",
          "text": [
            "(768, 9)\n",
            "(768, 9)\n",
            "                          count        mean        std        min        25%  \\\n",
            "Pregnancies               768.0    4.400782   2.984162   1.000000   2.000000   \n",
            "Glucose                   768.0  121.681605  30.436016  44.000000  99.750000   \n",
            "BloodPressure             768.0   72.254807  12.115932  24.000000  64.000000   \n",
            "SkinThickness             768.0   26.606479   9.631241   7.000000  20.536458   \n",
            "Insulin                   768.0  118.660163  93.080358  14.000000  79.799479   \n",
            "BMI                       768.0   32.450805   6.875374  18.200000  27.500000   \n",
            "DiabetesPedigreeFunction  768.0    0.471876   0.331329   0.078000   0.243750   \n",
            "Age                       768.0   33.240885  11.760232  21.000000  24.000000   \n",
            "Outcome                   768.0    0.576145   0.310515   0.348958   0.348958   \n",
            "\n",
            "                                 50%        75%     max  \n",
            "Pregnancies                 3.845052    6.00000   17.00  \n",
            "Glucose                   117.000000  140.25000  199.00  \n",
            "BloodPressure              72.000000   80.00000  122.00  \n",
            "SkinThickness              23.000000   32.00000   99.00  \n",
            "Insulin                    79.799479  127.25000  846.00  \n",
            "BMI                        32.000000   36.60000   67.10  \n",
            "DiabetesPedigreeFunction    0.372500    0.62625    2.42  \n",
            "Age                        29.000000   41.00000   81.00  \n",
            "Outcome                     0.348958    1.00000    1.00  \n"
          ]
        }
      ]
    },
    {
      "cell_type": "code",
      "source": [
        "\n",
        "d = preprocessing.normalize(data, axis=0)\n",
        "scaled_df = pd.DataFrame(d, columns = [data.columns])\n",
        "scaled_df.head()\n",
        "print(scaled_df.describe().T)\n",
        "print(type(scaled_df.describe().T))\n",
        "\n",
        "# norm_data = preprocessing.normalize(Insurance_Data, axis=0)\n",
        "# norm_df = pd.DataFrame(norm_data,columns=[Insurance_Data.columns])"
      ],
      "metadata": {
        "colab": {
          "base_uri": "https://localhost:8080/"
        },
        "id": "wL0aVajyr8hI",
        "outputId": "d9dfdc52-7871-47f4-c0ed-c9f8c8a0d0a5"
      },
      "execution_count": 3,
      "outputs": [
        {
          "output_type": "stream",
          "name": "stdout",
          "text": [
            "                          count      mean       std       min       25%  \\\n",
            "Pregnancies               768.0  0.029872  0.020256  0.006788  0.013576   \n",
            "Glucose                   768.0  0.035007  0.008756  0.012659  0.028698   \n",
            "BloodPressure             768.0  0.035588  0.005968  0.011821  0.031522   \n",
            "SkinThickness             768.0  0.033932  0.012283  0.008927  0.026191   \n",
            "Insulin                   768.0  0.028399  0.022277  0.003351  0.019098   \n",
            "BMI                       768.0  0.035302  0.007479  0.019799  0.029916   \n",
            "DiabetesPedigreeFunction  768.0  0.029538  0.020740  0.004883  0.015258   \n",
            "Age                       768.0  0.034021  0.012036  0.021493  0.024563   \n",
            "Outcome                   768.0  0.031769  0.017122  0.019242  0.019242   \n",
            "\n",
            "                               50%       75%       max  \n",
            "Pregnancies               0.026099  0.040727  0.115393  \n",
            "Glucose                   0.033660  0.040349  0.057251  \n",
            "BloodPressure             0.035463  0.039403  0.060090  \n",
            "SkinThickness             0.029333  0.040811  0.126259  \n",
            "Insulin                   0.019098  0.030454  0.202471  \n",
            "BMI                       0.034811  0.039815  0.072995  \n",
            "DiabetesPedigreeFunction  0.023317  0.039201  0.151484  \n",
            "Age                       0.029680  0.041962  0.082900  \n",
            "Outcome                   0.019242  0.055141  0.055141  \n",
            "<class 'pandas.core.frame.DataFrame'>\n"
          ]
        }
      ]
    },
    {
      "cell_type": "code",
      "source": [
        "scaled_df.hist(column=\"Glucose\")"
      ],
      "metadata": {
        "colab": {
          "base_uri": "https://localhost:8080/",
          "height": 317
        },
        "id": "BwA_Ijybq_5S",
        "outputId": "9d6e3c9d-f8df-4fad-f624-a162f39d6eb5"
      },
      "execution_count": 4,
      "outputs": [
        {
          "output_type": "execute_result",
          "data": {
            "text/plain": [
              "array([[<matplotlib.axes._subplots.AxesSubplot object at 0x7fb0e42b2ac0>]],\n",
              "      dtype=object)"
            ]
          },
          "metadata": {},
          "execution_count": 4
        },
        {
          "output_type": "display_data",
          "data": {
            "text/plain": [
              "<Figure size 432x288 with 1 Axes>"
            ],
            "image/png": "[encoded data removed]"
          },
          "metadata": {
            "needs_background": "light"
          }
        }
      ]
    },
    {
      "cell_type": "code",
      "source": [
        "scaled_df.hist(column=\"BloodPressure\")"
      ],
      "metadata": {
        "colab": {
          "base_uri": "https://localhost:8080/",
          "height": 317
        },
        "id": "Ko05EB2mrF-F",
        "outputId": "1e688ca8-16de-49e2-8c13-e0302053c128"
      },
      "execution_count": 5,
      "outputs": [
        {
          "output_type": "execute_result",
          "data": {
            "text/plain": [
              "array([[<matplotlib.axes._subplots.AxesSubplot object at 0x7fb0e41964f0>]],\n",
              "      dtype=object)"
            ]
          },
          "metadata": {},
          "execution_count": 5
        },
        {
          "output_type": "display_data",
          "data": {
            "text/plain": [
              "<Figure size 432x288 with 1 Axes>"
            ],
            "image/png": "[encoded data removed]"
          },
          "metadata": {
            "needs_background": "light"
          }
        }
      ]
    },
    {
      "cell_type": "code",
      "source": [
        "X = scaled_df.iloc[:,0:8].to_numpy()\n",
        "# dataset.iloc[:, 4]\n",
        "print(X)\n",
        "y = data.iloc[:,8].to_numpy()\n",
        "print(y)\n"
      ],
      "metadata": {
        "colab": {
          "base_uri": "https://localhost:8080/"
        },
        "id": "h--Q06U4sIM1",
        "outputId": "5d420c26-766b-4881-ef19-7a7a90f146dd"
      },
      "execution_count": 6,
      "outputs": [
        {
          "output_type": "stream",
          "name": "stdout",
          "text": [
            "[[0.04072683 0.04257898 0.03546267 ... 0.03655192 0.03924821 0.05117289]\n",
            " [0.00678781 0.02445414 0.03250745 ... 0.02893694 0.02197149 0.03172719]\n",
            " [0.05430244 0.05264833 0.03152238 ... 0.02534702 0.04206507 0.03275065]\n",
            " ...\n",
            " [0.03393903 0.03481119 0.03546267 ... 0.0285018  0.01533622 0.03070373]\n",
            " [0.00678781 0.03624967 0.02955223 ... 0.03274443 0.02184629 0.04810252]\n",
            " [0.00678781 0.02675571 0.0344776  ... 0.03307079 0.019718   0.02353953]]\n",
            "[1.         0.34895833 1.         0.34895833 1.         0.34895833\n",
            " 1.         0.34895833 1.         1.         0.34895833 1.\n",
            " 0.34895833 1.         1.         1.         1.         1.\n",
            " 0.34895833 1.         0.34895833 0.34895833 1.         1.\n",
            " 1.         1.         1.         0.34895833 0.34895833 0.34895833\n",
            " 0.34895833 1.         0.34895833 0.34895833 0.34895833 0.34895833\n",
            " 0.34895833 1.         1.         1.         0.34895833 0.34895833\n",
            " 0.34895833 1.         0.34895833 1.         0.34895833 0.34895833\n",
            " 1.         0.34895833 0.34895833 0.34895833 0.34895833 1.\n",
            " 0.34895833 0.34895833 1.         0.34895833 0.34895833 0.34895833\n",
            " 0.34895833 1.         0.34895833 0.34895833 1.         0.34895833\n",
            " 1.         0.34895833 0.34895833 0.34895833 1.         0.34895833\n",
            " 1.         0.34895833 0.34895833 0.34895833 0.34895833 0.34895833\n",
            " 1.         0.34895833 0.34895833 0.34895833 0.34895833 0.34895833\n",
            " 1.         0.34895833 0.34895833 0.34895833 1.         0.34895833\n",
            " 0.34895833 0.34895833 0.34895833 1.         0.34895833 0.34895833\n",
            " 0.34895833 0.34895833 0.34895833 1.         1.         0.34895833\n",
            " 0.34895833 0.34895833 0.34895833 0.34895833 0.34895833 0.34895833\n",
            " 0.34895833 1.         1.         1.         0.34895833 0.34895833\n",
            " 1.         1.         1.         0.34895833 0.34895833 0.34895833\n",
            " 1.         0.34895833 0.34895833 0.34895833 1.         1.\n",
            " 0.34895833 0.34895833 1.         1.         1.         1.\n",
            " 1.         0.34895833 0.34895833 0.34895833 0.34895833 0.34895833\n",
            " 0.34895833 0.34895833 0.34895833 0.34895833 0.34895833 1.\n",
            " 0.34895833 0.34895833 0.34895833 0.34895833 0.34895833 0.34895833\n",
            " 0.34895833 0.34895833 1.         0.34895833 1.         1.\n",
            " 0.34895833 0.34895833 0.34895833 1.         0.34895833 0.34895833\n",
            " 0.34895833 0.34895833 1.         1.         0.34895833 0.34895833\n",
            " 0.34895833 0.34895833 1.         1.         0.34895833 0.34895833\n",
            " 0.34895833 1.         0.34895833 1.         0.34895833 1.\n",
            " 0.34895833 0.34895833 0.34895833 0.34895833 0.34895833 1.\n",
            " 1.         1.         1.         1.         0.34895833 0.34895833\n",
            " 1.         1.         0.34895833 1.         0.34895833 1.\n",
            " 1.         1.         0.34895833 0.34895833 0.34895833 0.34895833\n",
            " 0.34895833 0.34895833 1.         1.         0.34895833 1.\n",
            " 0.34895833 0.34895833 0.34895833 1.         1.         1.\n",
            " 1.         0.34895833 1.         1.         1.         1.\n",
            " 0.34895833 0.34895833 0.34895833 0.34895833 0.34895833 1.\n",
            " 0.34895833 0.34895833 1.         1.         0.34895833 0.34895833\n",
            " 0.34895833 1.         1.         1.         1.         0.34895833\n",
            " 0.34895833 0.34895833 1.         1.         0.34895833 1.\n",
            " 0.34895833 0.34895833 0.34895833 0.34895833 0.34895833 0.34895833\n",
            " 0.34895833 0.34895833 1.         1.         0.34895833 0.34895833\n",
            " 0.34895833 1.         0.34895833 1.         0.34895833 0.34895833\n",
            " 1.         0.34895833 1.         0.34895833 0.34895833 1.\n",
            " 1.         0.34895833 0.34895833 0.34895833 0.34895833 0.34895833\n",
            " 1.         0.34895833 0.34895833 0.34895833 1.         0.34895833\n",
            " 0.34895833 1.         1.         0.34895833 0.34895833 1.\n",
            " 0.34895833 0.34895833 0.34895833 1.         1.         1.\n",
            " 0.34895833 0.34895833 1.         0.34895833 1.         0.34895833\n",
            " 1.         1.         0.34895833 1.         0.34895833 0.34895833\n",
            " 1.         0.34895833 1.         1.         0.34895833 0.34895833\n",
            " 1.         0.34895833 1.         0.34895833 0.34895833 1.\n",
            " 0.34895833 1.         0.34895833 1.         1.         1.\n",
            " 0.34895833 0.34895833 1.         0.34895833 1.         0.34895833\n",
            " 0.34895833 0.34895833 1.         0.34895833 0.34895833 0.34895833\n",
            " 0.34895833 1.         1.         1.         0.34895833 0.34895833\n",
            " 0.34895833 0.34895833 0.34895833 0.34895833 0.34895833 0.34895833\n",
            " 0.34895833 1.         0.34895833 0.34895833 0.34895833 0.34895833\n",
            " 0.34895833 1.         1.         1.         0.34895833 1.\n",
            " 1.         0.34895833 0.34895833 1.         0.34895833 0.34895833\n",
            " 1.         0.34895833 0.34895833 1.         1.         0.34895833\n",
            " 0.34895833 0.34895833 0.34895833 1.         0.34895833 0.34895833\n",
            " 1.         0.34895833 0.34895833 0.34895833 0.34895833 0.34895833\n",
            " 0.34895833 0.34895833 1.         1.         1.         0.34895833\n",
            " 0.34895833 1.         0.34895833 0.34895833 1.         0.34895833\n",
            " 0.34895833 1.         0.34895833 1.         1.         0.34895833\n",
            " 1.         0.34895833 1.         0.34895833 1.         0.34895833\n",
            " 1.         1.         0.34895833 0.34895833 0.34895833 0.34895833\n",
            " 1.         1.         0.34895833 1.         0.34895833 1.\n",
            " 0.34895833 0.34895833 0.34895833 0.34895833 1.         1.\n",
            " 0.34895833 1.         0.34895833 1.         0.34895833 0.34895833\n",
            " 0.34895833 0.34895833 0.34895833 1.         0.34895833 0.34895833\n",
            " 0.34895833 0.34895833 1.         0.34895833 0.34895833 1.\n",
            " 1.         1.         0.34895833 0.34895833 1.         0.34895833\n",
            " 0.34895833 1.         0.34895833 0.34895833 0.34895833 1.\n",
            " 0.34895833 0.34895833 1.         0.34895833 0.34895833 0.34895833\n",
            " 0.34895833 0.34895833 0.34895833 0.34895833 0.34895833 0.34895833\n",
            " 1.         0.34895833 0.34895833 0.34895833 0.34895833 0.34895833\n",
            " 0.34895833 0.34895833 1.         0.34895833 0.34895833 0.34895833\n",
            " 1.         0.34895833 0.34895833 0.34895833 1.         1.\n",
            " 0.34895833 0.34895833 0.34895833 0.34895833 0.34895833 0.34895833\n",
            " 0.34895833 1.         0.34895833 0.34895833 0.34895833 0.34895833\n",
            " 1.         0.34895833 0.34895833 0.34895833 1.         0.34895833\n",
            " 0.34895833 0.34895833 1.         0.34895833 0.34895833 0.34895833\n",
            " 1.         0.34895833 0.34895833 0.34895833 0.34895833 1.\n",
            " 1.         0.34895833 0.34895833 0.34895833 0.34895833 0.34895833\n",
            " 0.34895833 1.         0.34895833 0.34895833 0.34895833 0.34895833\n",
            " 0.34895833 0.34895833 0.34895833 0.34895833 0.34895833 0.34895833\n",
            " 0.34895833 1.         0.34895833 0.34895833 0.34895833 1.\n",
            " 1.         1.         1.         0.34895833 0.34895833 1.\n",
            " 1.         0.34895833 0.34895833 0.34895833 0.34895833 0.34895833\n",
            " 0.34895833 0.34895833 0.34895833 0.34895833 0.34895833 0.34895833\n",
            " 0.34895833 0.34895833 1.         1.         0.34895833 0.34895833\n",
            " 0.34895833 0.34895833 0.34895833 0.34895833 0.34895833 1.\n",
            " 0.34895833 0.34895833 0.34895833 0.34895833 0.34895833 0.34895833\n",
            " 0.34895833 1.         0.34895833 1.         1.         0.34895833\n",
            " 0.34895833 0.34895833 1.         0.34895833 1.         0.34895833\n",
            " 1.         0.34895833 1.         0.34895833 1.         0.34895833\n",
            " 0.34895833 1.         0.34895833 0.34895833 1.         0.34895833\n",
            " 0.34895833 0.34895833 0.34895833 1.         1.         0.34895833\n",
            " 1.         0.34895833 0.34895833 0.34895833 0.34895833 1.\n",
            " 1.         0.34895833 1.         0.34895833 0.34895833 0.34895833\n",
            " 1.         1.         0.34895833 0.34895833 0.34895833 0.34895833\n",
            " 0.34895833 0.34895833 0.34895833 0.34895833 0.34895833 0.34895833\n",
            " 1.         0.34895833 0.34895833 0.34895833 0.34895833 1.\n",
            " 0.34895833 0.34895833 1.         0.34895833 0.34895833 0.34895833\n",
            " 1.         0.34895833 0.34895833 0.34895833 1.         1.\n",
            " 1.         0.34895833 0.34895833 0.34895833 0.34895833 0.34895833\n",
            " 0.34895833 1.         0.34895833 0.34895833 0.34895833 1.\n",
            " 0.34895833 1.         1.         1.         1.         0.34895833\n",
            " 1.         1.         0.34895833 0.34895833 0.34895833 0.34895833\n",
            " 0.34895833 0.34895833 0.34895833 1.         1.         0.34895833\n",
            " 1.         0.34895833 0.34895833 1.         0.34895833 1.\n",
            " 0.34895833 0.34895833 0.34895833 0.34895833 0.34895833 1.\n",
            " 0.34895833 1.         0.34895833 1.         0.34895833 1.\n",
            " 1.         0.34895833 0.34895833 0.34895833 0.34895833 1.\n",
            " 1.         0.34895833 0.34895833 0.34895833 1.         0.34895833\n",
            " 1.         1.         0.34895833 0.34895833 1.         0.34895833\n",
            " 0.34895833 1.         1.         0.34895833 0.34895833 1.\n",
            " 0.34895833 0.34895833 1.         0.34895833 0.34895833 0.34895833\n",
            " 0.34895833 0.34895833 0.34895833 0.34895833 1.         1.\n",
            " 1.         0.34895833 0.34895833 0.34895833 0.34895833 0.34895833\n",
            " 0.34895833 1.         1.         0.34895833 0.34895833 1.\n",
            " 0.34895833 0.34895833 1.         0.34895833 1.         1.\n",
            " 1.         0.34895833 0.34895833 1.         1.         1.\n",
            " 0.34895833 1.         0.34895833 1.         0.34895833 1.\n",
            " 0.34895833 0.34895833 0.34895833 0.34895833 1.         0.34895833]\n"
          ]
        }
      ]
    },
    {
      "cell_type": "code",
      "source": [
        "x_train, x_test, y_train, y_test = train_test_split(X,y,test_size = 0.3,random_state=5)"
      ],
      "metadata": {
        "id": "l8GdTk4yavg6"
      },
      "execution_count": 7,
      "outputs": []
    },
    {
      "cell_type": "code",
      "source": [
        "model = Sequential()\n",
        "model.add(Dense(12, input_shape=(8,), activation='relu'))\n",
        "model.add(Dense(8, activation='relu'))\n",
        "model.add(Dense(1, activation='sigmoid'))\n",
        "\n",
        "model.compile(loss='binary_crossentropy', optimizer='adam', metrics=['accuracy'])"
      ],
      "metadata": {
        "id": "MF9Y7uwkv8La"
      },
      "execution_count": 8,
      "outputs": []
    },
    {
      "cell_type": "code",
      "source": [
        "model.fit(x_train, y_train, epochs=150, batch_size=10, verbose=0)\n",
        "# evaluate the keras model\n",
        "# test DS\n",
        "#training error\n",
        "_, accuracy = model.evaluate(x_train, y_train, verbose=0)\n",
        "print('Accuracy: %.2f' % (accuracy*100))\n",
        "\n",
        "predictions = (model.predict(x_test) > 0.5).astype(int)\n",
        "\n",
        "# summarize the first 5 cases\n",
        "for i in range(5):\n",
        "\tprint('%s => %d (expected %d)' % (x_test[i].tolist(), predictions[i], y_test[i]))"
      ],
      "metadata": {
        "colab": {
          "base_uri": "https://localhost:8080/"
        },
        "id": "49QiuqqWwBGZ",
        "outputId": "2358e7df-f18a-421d-86ae-a5fa2099cde1"
      },
      "execution_count": 9,
      "outputs": [
        {
          "output_type": "stream",
          "name": "stdout",
          "text": [
            "Accuracy: 34.64\n",
            "8/8 [==============================] - 0s 2ms/step\n",
            "[0.04072683370647543, 0.026468013734211867, 0.030537300807401756, 0.04081093651464417, 0.030155216874819788, 0.034811354622936566, 0.005320730020922629, 0.047079059916829195] => 1 (expected 0)\n",
            "[0.03393902808872953, 0.037975845792564855, 0.039402968783744205, 0.02619100303991568, 0.019098179371178546, 0.029154509496709377, 0.011643009222254223, 0.07061858987524379] => 1 (expected 0)\n",
            "[0.020363416853237715, 0.030495754954635412, 0.03546267190536978, 0.02619100303991568, 0.019098179371178546, 0.028066654664742608, 0.012957542521540988, 0.02763336125553018] => 0 (expected 0)\n",
            "[0.027151222470983623, 0.02848188434442364, 0.033492523466182575, 0.048462987111139944, 0.019098179371178546, 0.03568163848850998, 0.009076539447456249, 0.03377410820120355] => 0 (expected 0)\n",
            "[0.027151222470983623, 0.027618796940047166, 0.02758207814862094, 0.021680810023404714, 0.011727028784652139, 0.02262738050490877, 0.021282920083690517, 0.026609903431251285] => 0 (expected 0)\n"
          ]
        }
      ]
    },
    {
      "cell_type": "code",
      "source": [
        "testX = np.copy(x_test)\n",
        "max = np.max(testX,axis=0)\n",
        "print(max)\n",
        "\n",
        "min = np.min(testX,axis=0)\n",
        "print(min)"
      ],
      "metadata": {
        "colab": {
          "base_uri": "https://localhost:8080/"
        },
        "id": "yhCcrXoX-Gac",
        "outputId": "0d31e422-248e-47e0-8005-f1959a9b1720"
      },
      "execution_count": 10,
      "outputs": [
        {
          "output_type": "stream",
          "name": "stdout",
          "text": [
            "[0.1153927  0.05696377 0.05319401 0.08034653 0.17805938 0.06461858\n",
            " 0.15148431 0.07061859]\n",
            "[0.00678781 0.01639866 0.02364178 0.01020273 0.00335058 0.0209956\n",
            " 0.00532073 0.02149261]\n"
          ]
        }
      ]
    },
    {
      "cell_type": "code",
      "source": [
        "# #pregnancies\n",
        "# X_preg_max = np.copy(testX)\n",
        "# for i in range(len(X)):\n",
        "#     X_preg_max[i][0] = max[0]\n",
        "# _, accuracy = model.evaluate(X_preg_max, y, verbose=0)\n",
        "# print('Accuracy: %.2f' % (accuracy*100))\n",
        "# predictions_preg_max = model.predict(X_preg_max) \n",
        "\n",
        "# # reshape = predictions_preg_max.reshape(1,-1)\n",
        "# # print(reshape)\n",
        "# for i in range(5):\n",
        "# \tprint('%s => %s (expected %d)' % (X_preg_max[i].tolist(), predictions_preg_max[i], y[i]))\n"
      ],
      "metadata": {
        "id": "C7yXQmZk1TZT"
      },
      "execution_count": 11,
      "outputs": []
    },
    {
      "cell_type": "code",
      "source": [
        "print(len(x_test))"
      ],
      "metadata": {
        "colab": {
          "base_uri": "https://localhost:8080/"
        },
        "id": "19GHji5cQO2M",
        "outputId": "cf57aa5b-9ba5-4bbd-a99e-0529d649c017"
      },
      "execution_count": 58,
      "outputs": [
        {
          "output_type": "stream",
          "name": "stdout",
          "text": [
            "231\n"
          ]
        }
      ]
    },
    {
      "cell_type": "markdown",
      "source": [
        "#Max Max - Min Min"
      ],
      "metadata": {
        "id": "vNfF4viMHi5R"
      }
    },
    {
      "cell_type": "code",
      "source": [
        "MaxMax = [[0 for x in range(28)] for y in range(len(x_test))]"
      ],
      "metadata": {
        "id": "frz1y8eBIVGY"
      },
      "execution_count": 49,
      "outputs": []
    },
    {
      "cell_type": "code",
      "source": [
        "prediction_max = []\n",
        "for i in range(len(x_test)):\n",
        "  row_index = 0\n",
        "  X_single= np.full((28,8),x_test[i])\n",
        "  for m in range(8):\n",
        "    for j in range(m+1,8):\n",
        "      X_single[row_index][m] = max[m]\n",
        "      X_single[row_index][j] = max[j]\n",
        "      row_index +=1\n",
        "  predictions_sub_max = model.predict(X_single).reshape((1,28))\n",
        "  # MaxMax[i] = predictions_sub_max\n",
        "  if len(prediction_max) == 0:\n",
        "      prediction_max = predictions_sub_max\n",
        "  else:\n",
        "      prediction_max = np.concatenate((prediction_max, predictions_sub_max), axis=1)\n",
        "\n",
        "\n",
        "\n"
      ],
      "metadata": {
        "colab": {
          "base_uri": "https://localhost:8080/"
        },
        "id": "xmQe4kh8IxPK",
        "outputId": "3a255531-f399-4675-8d61-2ac4ce103ffb"
      },
      "execution_count": 63,
      "outputs": [
        {
          "output_type": "stream",
          "name": "stdout",
          "text": [
            "1/1 [==============================] - 0s 19ms/step\n",
            "1/1 [==============================] - 0s 18ms/step\n",
            "1/1 [==============================] - 0s 18ms/step\n",
            "1/1 [==============================] - 0s 17ms/step\n",
            "1/1 [==============================] - 0s 19ms/step\n",
            "1/1 [==============================] - 0s 22ms/step\n",
            "1/1 [==============================] - 0s 22ms/step\n",
            "1/1 [==============================] - 0s 17ms/step\n",
            "1/1 [==============================] - 0s 17ms/step\n",
            "1/1 [==============================] - 0s 19ms/step\n",
            "1/1 [==============================] - 0s 19ms/step\n",
            "1/1 [==============================] - 0s 20ms/step\n",
            "1/1 [==============================] - 0s 22ms/step\n",
            "1/1 [==============================] - 0s 17ms/step\n",
            "1/1 [==============================] - 0s 16ms/step\n",
            "1/1 [==============================] - 0s 16ms/step\n",
            "1/1 [==============================] - 0s 16ms/step\n",
            "1/1 [==============================] - 0s 24ms/step\n",
            "1/1 [==============================] - 0s 18ms/step\n",
            "1/1 [==============================] - 0s 17ms/step\n",
            "1/1 [==============================] - 0s 20ms/step\n",
            "1/1 [==============================] - 0s 22ms/step\n",
            "1/1 [==============================] - 0s 18ms/step\n",
            "1/1 [==============================] - 0s 21ms/step\n",
            "1/1 [==============================] - 0s 17ms/step\n",
            "1/1 [==============================] - 0s 19ms/step\n",
            "1/1 [==============================] - 0s 16ms/step\n",
            "1/1 [==============================] - 0s 18ms/step\n",
            "1/1 [==============================] - 0s 20ms/step\n",
            "1/1 [==============================] - 0s 17ms/step\n",
            "1/1 [==============================] - 0s 18ms/step\n",
            "1/1 [==============================] - 0s 18ms/step\n",
            "1/1 [==============================] - 0s 18ms/step\n",
            "1/1 [==============================] - 0s 17ms/step\n",
            "1/1 [==============================] - 0s 17ms/step\n",
            "1/1 [==============================] - 0s 18ms/step\n",
            "1/1 [==============================] - 0s 17ms/step\n",
            "1/1 [==============================] - 0s 17ms/step\n",
            "1/1 [==============================] - 0s 18ms/step\n",
            "1/1 [==============================] - 0s 17ms/step\n",
            "1/1 [==============================] - 0s 17ms/step\n",
            "1/1 [==============================] - 0s 20ms/step\n",
            "1/1 [==============================] - 0s 17ms/step\n",
            "1/1 [==============================] - 0s 16ms/step\n",
            "1/1 [==============================] - 0s 17ms/step\n",
            "1/1 [==============================] - 0s 16ms/step\n",
            "1/1 [==============================] - 0s 16ms/step\n",
            "1/1 [==============================] - 0s 18ms/step\n",
            "1/1 [==============================] - 0s 18ms/step\n",
            "1/1 [==============================] - 0s 17ms/step\n",
            "1/1 [==============================] - 0s 17ms/step\n",
            "1/1 [==============================] - 0s 18ms/step\n",
            "1/1 [==============================] - 0s 17ms/step\n",
            "1/1 [==============================] - 0s 17ms/step\n",
            "1/1 [==============================] - 0s 16ms/step\n",
            "1/1 [==============================] - 0s 17ms/step\n",
            "1/1 [==============================] - 0s 16ms/step\n",
            "1/1 [==============================] - 0s 21ms/step\n",
            "1/1 [==============================] - 0s 18ms/step\n",
            "1/1 [==============================] - 0s 17ms/step\n",
            "1/1 [==============================] - 0s 16ms/step\n",
            "1/1 [==============================] - 0s 17ms/step\n",
            "1/1 [==============================] - 0s 17ms/step\n",
            "1/1 [==============================] - 0s 18ms/step\n",
            "1/1 [==============================] - 0s 19ms/step\n",
            "1/1 [==============================] - 0s 17ms/step\n",
            "1/1 [==============================] - 0s 17ms/step\n",
            "1/1 [==============================] - 0s 19ms/step\n",
            "1/1 [==============================] - 0s 22ms/step\n",
            "1/1 [==============================] - 0s 20ms/step\n",
            "1/1 [==============================] - 0s 19ms/step\n",
            "1/1 [==============================] - 0s 20ms/step\n",
            "1/1 [==============================] - 0s 17ms/step\n",
            "1/1 [==============================] - 0s 24ms/step\n",
            "1/1 [==============================] - 0s 17ms/step\n",
            "1/1 [==============================] - 0s 16ms/step\n",
            "1/1 [==============================] - 0s 15ms/step\n",
            "1/1 [==============================] - 0s 17ms/step\n",
            "1/1 [==============================] - 0s 18ms/step\n",
            "1/1 [==============================] - 0s 17ms/step\n",
            "1/1 [==============================] - 0s 21ms/step\n",
            "1/1 [==============================] - 0s 17ms/step\n",
            "1/1 [==============================] - 0s 17ms/step\n",
            "1/1 [==============================] - 0s 16ms/step\n",
            "1/1 [==============================] - 0s 18ms/step\n",
            "1/1 [==============================] - 0s 21ms/step\n",
            "1/1 [==============================] - 0s 15ms/step\n",
            "1/1 [==============================] - 0s 15ms/step\n",
            "1/1 [==============================] - 0s 16ms/step\n",
            "1/1 [==============================] - 0s 18ms/step\n",
            "1/1 [==============================] - 0s 18ms/step\n",
            "1/1 [==============================] - 0s 16ms/step\n",
            "1/1 [==============================] - 0s 30ms/step\n",
            "1/1 [==============================] - 0s 17ms/step\n",
            "1/1 [==============================] - 0s 26ms/step\n",
            "1/1 [==============================] - 0s 20ms/step\n",
            "1/1 [==============================] - 0s 17ms/step\n",
            "1/1 [==============================] - 0s 17ms/step\n",
            "1/1 [==============================] - 0s 18ms/step\n",
            "1/1 [==============================] - 0s 17ms/step\n",
            "1/1 [==============================] - 0s 17ms/step\n",
            "1/1 [==============================] - 0s 17ms/step\n",
            "1/1 [==============================] - 0s 18ms/step\n",
            "1/1 [==============================] - 0s 17ms/step\n",
            "1/1 [==============================] - 0s 18ms/step\n",
            "1/1 [==============================] - 0s 18ms/step\n",
            "1/1 [==============================] - 0s 17ms/step\n",
            "1/1 [==============================] - 0s 19ms/step\n",
            "1/1 [==============================] - 0s 25ms/step\n",
            "1/1 [==============================] - 0s 17ms/step\n",
            "1/1 [==============================] - 0s 17ms/step\n",
            "1/1 [==============================] - 0s 17ms/step\n",
            "1/1 [==============================] - 0s 17ms/step\n",
            "1/1 [==============================] - 0s 17ms/step\n",
            "1/1 [==============================] - 0s 20ms/step\n",
            "1/1 [==============================] - 0s 17ms/step\n",
            "1/1 [==============================] - 0s 21ms/step\n",
            "1/1 [==============================] - 0s 16ms/step\n",
            "1/1 [==============================] - 0s 17ms/step\n",
            "1/1 [==============================] - 0s 24ms/step\n",
            "1/1 [==============================] - 0s 20ms/step\n",
            "1/1 [==============================] - 0s 25ms/step\n",
            "1/1 [==============================] - 0s 18ms/step\n",
            "1/1 [==============================] - 0s 23ms/step\n",
            "1/1 [==============================] - 0s 18ms/step\n",
            "1/1 [==============================] - 0s 17ms/step\n",
            "1/1 [==============================] - 0s 20ms/step\n",
            "1/1 [==============================] - 0s 18ms/step\n",
            "1/1 [==============================] - 0s 25ms/step\n",
            "1/1 [==============================] - 0s 22ms/step\n",
            "1/1 [==============================] - 0s 17ms/step\n",
            "1/1 [==============================] - 0s 18ms/step\n",
            "1/1 [==============================] - 0s 17ms/step\n",
            "1/1 [==============================] - 0s 17ms/step\n",
            "1/1 [==============================] - 0s 18ms/step\n",
            "1/1 [==============================] - 0s 19ms/step\n",
            "1/1 [==============================] - 0s 23ms/step\n",
            "1/1 [==============================] - 0s 17ms/step\n",
            "1/1 [==============================] - 0s 18ms/step\n",
            "1/1 [==============================] - 0s 24ms/step\n",
            "1/1 [==============================] - 0s 17ms/step\n",
            "1/1 [==============================] - 0s 17ms/step\n",
            "1/1 [==============================] - 0s 19ms/step\n",
            "1/1 [==============================] - 0s 19ms/step\n",
            "1/1 [==============================] - 0s 17ms/step\n",
            "1/1 [==============================] - 0s 19ms/step\n",
            "1/1 [==============================] - 0s 20ms/step\n",
            "1/1 [==============================] - 0s 17ms/step\n",
            "1/1 [==============================] - 0s 16ms/step\n",
            "1/1 [==============================] - 0s 22ms/step\n",
            "1/1 [==============================] - 0s 16ms/step\n",
            "1/1 [==============================] - 0s 17ms/step\n",
            "1/1 [==============================] - 0s 17ms/step\n",
            "1/1 [==============================] - 0s 17ms/step\n",
            "1/1 [==============================] - 0s 20ms/step\n",
            "1/1 [==============================] - 0s 19ms/step\n",
            "1/1 [==============================] - 0s 19ms/step\n",
            "1/1 [==============================] - 0s 20ms/step\n",
            "1/1 [==============================] - 0s 20ms/step\n",
            "1/1 [==============================] - 0s 17ms/step\n",
            "1/1 [==============================] - 0s 18ms/step\n",
            "1/1 [==============================] - 0s 17ms/step\n",
            "1/1 [==============================] - 0s 17ms/step\n",
            "1/1 [==============================] - 0s 17ms/step\n",
            "1/1 [==============================] - 0s 17ms/step\n",
            "1/1 [==============================] - 0s 22ms/step\n",
            "1/1 [==============================] - 0s 17ms/step\n",
            "1/1 [==============================] - 0s 18ms/step\n",
            "1/1 [==============================] - 0s 16ms/step\n",
            "1/1 [==============================] - 0s 17ms/step\n",
            "1/1 [==============================] - 0s 22ms/step\n",
            "1/1 [==============================] - 0s 27ms/step\n",
            "1/1 [==============================] - 0s 18ms/step\n",
            "1/1 [==============================] - 0s 16ms/step\n",
            "1/1 [==============================] - 0s 17ms/step\n",
            "1/1 [==============================] - 0s 17ms/step\n",
            "1/1 [==============================] - 0s 17ms/step\n",
            "1/1 [==============================] - 0s 17ms/step\n",
            "1/1 [==============================] - 0s 16ms/step\n",
            "1/1 [==============================] - 0s 19ms/step\n",
            "1/1 [==============================] - 0s 19ms/step\n",
            "1/1 [==============================] - 0s 25ms/step\n",
            "1/1 [==============================] - 0s 20ms/step\n",
            "1/1 [==============================] - 0s 26ms/step\n",
            "1/1 [==============================] - 0s 20ms/step\n",
            "1/1 [==============================] - 0s 17ms/step\n",
            "1/1 [==============================] - 0s 19ms/step\n",
            "1/1 [==============================] - 0s 19ms/step\n",
            "1/1 [==============================] - 0s 17ms/step\n",
            "1/1 [==============================] - 0s 17ms/step\n",
            "1/1 [==============================] - 0s 16ms/step\n",
            "1/1 [==============================] - 0s 19ms/step\n",
            "1/1 [==============================] - 0s 21ms/step\n",
            "1/1 [==============================] - 0s 17ms/step\n",
            "1/1 [==============================] - 0s 17ms/step\n",
            "1/1 [==============================] - 0s 18ms/step\n",
            "1/1 [==============================] - 0s 20ms/step\n",
            "1/1 [==============================] - 0s 18ms/step\n",
            "1/1 [==============================] - 0s 15ms/step\n",
            "1/1 [==============================] - 0s 19ms/step\n",
            "1/1 [==============================] - 0s 17ms/step\n",
            "1/1 [==============================] - 0s 22ms/step\n",
            "1/1 [==============================] - 0s 16ms/step\n",
            "1/1 [==============================] - 0s 19ms/step\n",
            "1/1 [==============================] - 0s 17ms/step\n",
            "1/1 [==============================] - 0s 18ms/step\n",
            "1/1 [==============================] - 0s 17ms/step\n",
            "1/1 [==============================] - 0s 16ms/step\n",
            "1/1 [==============================] - 0s 17ms/step\n",
            "1/1 [==============================] - 0s 17ms/step\n",
            "1/1 [==============================] - 0s 17ms/step\n",
            "1/1 [==============================] - 0s 22ms/step\n",
            "1/1 [==============================] - 0s 17ms/step\n",
            "1/1 [==============================] - 0s 18ms/step\n",
            "1/1 [==============================] - 0s 17ms/step\n",
            "1/1 [==============================] - 0s 19ms/step\n",
            "1/1 [==============================] - 0s 20ms/step\n",
            "1/1 [==============================] - 0s 23ms/step\n",
            "1/1 [==============================] - 0s 16ms/step\n",
            "1/1 [==============================] - 0s 18ms/step\n",
            "1/1 [==============================] - 0s 17ms/step\n",
            "1/1 [==============================] - 0s 17ms/step\n",
            "1/1 [==============================] - 0s 18ms/step\n",
            "1/1 [==============================] - 0s 23ms/step\n",
            "1/1 [==============================] - 0s 19ms/step\n",
            "1/1 [==============================] - 0s 17ms/step\n",
            "1/1 [==============================] - 0s 17ms/step\n",
            "1/1 [==============================] - 0s 18ms/step\n",
            "1/1 [==============================] - 0s 21ms/step\n",
            "1/1 [==============================] - 0s 18ms/step\n",
            "1/1 [==============================] - 0s 17ms/step\n"
          ]
        }
      ]
    },
    {
      "cell_type": "code",
      "source": [
        "# MaxMax = np.array(MaxMax)\n",
        "# print(MaxMax)\n",
        "prediction_max = prediction_max.reshape((231,28))\n",
        "print(prediction_max)\n",
        "\n"
      ],
      "metadata": {
        "colab": {
          "base_uri": "https://localhost:8080/"
        },
        "id": "RPcQDssJQC7t",
        "outputId": "492057fa-8317-4d65-e58b-47554e8f3bde"
      },
      "execution_count": 70,
      "outputs": [
        {
          "output_type": "stream",
          "name": "stdout",
          "text": [
            "[[0.93339115 0.78670037 0.7896058  ... 0.88619876 0.7671289  0.87083113]\n",
            " [0.94034195 0.88631946 0.8979272  ... 0.92009497 0.8427083  0.87367237]\n",
            " [0.90216523 0.73832184 0.75691605 ... 0.82522815 0.753513   0.824456  ]\n",
            " ...\n",
            " [0.8909684  0.7123001  0.7479433  ... 0.7738258  0.74592996 0.7661431 ]\n",
            " [0.90689224 0.70287913 0.713829   ... 0.8042453  0.7172247  0.80626667]\n",
            " [0.9641583  0.9505267  0.9563057  ... 0.93710876 0.930005   0.9539431 ]]\n"
          ]
        }
      ]
    },
    {
      "cell_type": "code",
      "source": [
        "prediction_min = []\n",
        "for i in range(len(x_test)):\n",
        "  row_index = 0\n",
        "  X_single= np.full((28,8),x_test[i])\n",
        "  for m in range(8):\n",
        "    for j in range(m+1,8):\n",
        "      X_single[row_index][m] = min[m]\n",
        "      X_single[row_index][j] = min[j]\n",
        "      row_index +=1\n",
        "  predictions_sub_min = model.predict(X_single).reshape((1,28))\n",
        "  # MaxMax[i] = predictions_sub_max\n",
        "  if len(prediction_min) == 0:\n",
        "      prediction_min = predictions_sub_min\n",
        "  else:\n",
        "      prediction_min = np.concatenate((prediction_min, predictions_sub_min), axis=1)"
      ],
      "metadata": {
        "colab": {
          "base_uri": "https://localhost:8080/"
        },
        "id": "jhgt-yF6RNw7",
        "outputId": "91cecaef-0544-4eff-a11f-0494c61855fa"
      },
      "execution_count": 69,
      "outputs": [
        {
          "output_type": "stream",
          "name": "stdout",
          "text": [
            "1/1 [==============================] - 0s 18ms/step\n",
            "1/1 [==============================] - 0s 17ms/step\n",
            "1/1 [==============================] - 0s 19ms/step\n",
            "1/1 [==============================] - 0s 19ms/step\n",
            "1/1 [==============================] - 0s 18ms/step\n",
            "1/1 [==============================] - 0s 23ms/step\n",
            "1/1 [==============================] - 0s 17ms/step\n",
            "1/1 [==============================] - 0s 18ms/step\n",
            "1/1 [==============================] - 0s 18ms/step\n",
            "1/1 [==============================] - 0s 16ms/step\n",
            "1/1 [==============================] - 0s 17ms/step\n",
            "1/1 [==============================] - 0s 16ms/step\n",
            "1/1 [==============================] - 0s 16ms/step\n",
            "1/1 [==============================] - 0s 18ms/step\n",
            "1/1 [==============================] - 0s 17ms/step\n",
            "1/1 [==============================] - 0s 17ms/step\n",
            "1/1 [==============================] - 0s 16ms/step\n",
            "1/1 [==============================] - 0s 19ms/step\n",
            "1/1 [==============================] - 0s 20ms/step\n",
            "1/1 [==============================] - 0s 18ms/step\n",
            "1/1 [==============================] - 0s 22ms/step\n",
            "1/1 [==============================] - 0s 17ms/step\n",
            "1/1 [==============================] - 0s 19ms/step\n",
            "1/1 [==============================] - 0s 23ms/step\n",
            "1/1 [==============================] - 0s 18ms/step\n",
            "1/1 [==============================] - 0s 16ms/step\n",
            "1/1 [==============================] - 0s 19ms/step\n",
            "1/1 [==============================] - 0s 17ms/step\n",
            "1/1 [==============================] - 0s 22ms/step\n",
            "1/1 [==============================] - 0s 17ms/step\n",
            "1/1 [==============================] - 0s 18ms/step\n",
            "1/1 [==============================] - 0s 20ms/step\n",
            "1/1 [==============================] - 0s 18ms/step\n",
            "1/1 [==============================] - 0s 16ms/step\n",
            "1/1 [==============================] - 0s 16ms/step\n",
            "1/1 [==============================] - 0s 16ms/step\n",
            "1/1 [==============================] - 0s 20ms/step\n",
            "1/1 [==============================] - 0s 18ms/step\n",
            "1/1 [==============================] - 0s 23ms/step\n",
            "1/1 [==============================] - 0s 17ms/step\n",
            "1/1 [==============================] - 0s 16ms/step\n",
            "1/1 [==============================] - 0s 18ms/step\n",
            "1/1 [==============================] - 0s 18ms/step\n",
            "1/1 [==============================] - 0s 17ms/step\n",
            "1/1 [==============================] - 0s 17ms/step\n",
            "1/1 [==============================] - 0s 17ms/step\n",
            "1/1 [==============================] - 0s 16ms/step\n",
            "1/1 [==============================] - 0s 17ms/step\n",
            "1/1 [==============================] - 0s 17ms/step\n",
            "1/1 [==============================] - 0s 17ms/step\n",
            "1/1 [==============================] - 0s 18ms/step\n",
            "1/1 [==============================] - 0s 20ms/step\n",
            "1/1 [==============================] - 0s 17ms/step\n",
            "1/1 [==============================] - 0s 25ms/step\n",
            "1/1 [==============================] - 0s 18ms/step\n",
            "1/1 [==============================] - 0s 16ms/step\n",
            "1/1 [==============================] - 0s 23ms/step\n",
            "1/1 [==============================] - 0s 18ms/step\n",
            "1/1 [==============================] - 0s 17ms/step\n",
            "1/1 [==============================] - 0s 19ms/step\n",
            "1/1 [==============================] - 0s 18ms/step\n",
            "1/1 [==============================] - 0s 16ms/step\n",
            "1/1 [==============================] - 0s 25ms/step\n",
            "1/1 [==============================] - 0s 17ms/step\n",
            "1/1 [==============================] - 0s 18ms/step\n",
            "1/1 [==============================] - 0s 19ms/step\n",
            "1/1 [==============================] - 0s 19ms/step\n",
            "1/1 [==============================] - 0s 20ms/step\n",
            "1/1 [==============================] - 0s 21ms/step\n",
            "1/1 [==============================] - 0s 21ms/step\n",
            "1/1 [==============================] - 0s 17ms/step\n",
            "1/1 [==============================] - 0s 17ms/step\n",
            "1/1 [==============================] - 0s 21ms/step\n",
            "1/1 [==============================] - 0s 26ms/step\n",
            "1/1 [==============================] - 0s 21ms/step\n",
            "1/1 [==============================] - 0s 17ms/step\n",
            "1/1 [==============================] - 0s 17ms/step\n",
            "1/1 [==============================] - 0s 39ms/step\n",
            "1/1 [==============================] - 0s 17ms/step\n",
            "1/1 [==============================] - 0s 17ms/step\n",
            "1/1 [==============================] - 0s 17ms/step\n",
            "1/1 [==============================] - 0s 19ms/step\n",
            "1/1 [==============================] - 0s 17ms/step\n",
            "1/1 [==============================] - 0s 18ms/step\n",
            "1/1 [==============================] - 0s 16ms/step\n",
            "1/1 [==============================] - 0s 17ms/step\n",
            "1/1 [==============================] - 0s 16ms/step\n",
            "1/1 [==============================] - 0s 17ms/step\n",
            "1/1 [==============================] - 0s 17ms/step\n",
            "1/1 [==============================] - 0s 17ms/step\n",
            "1/1 [==============================] - 0s 21ms/step\n",
            "1/1 [==============================] - 0s 20ms/step\n",
            "1/1 [==============================] - 0s 20ms/step\n",
            "1/1 [==============================] - 0s 17ms/step\n",
            "1/1 [==============================] - 0s 17ms/step\n",
            "1/1 [==============================] - 0s 20ms/step\n",
            "1/1 [==============================] - 0s 17ms/step\n",
            "1/1 [==============================] - 0s 16ms/step\n",
            "1/1 [==============================] - 0s 17ms/step\n",
            "1/1 [==============================] - 0s 17ms/step\n",
            "1/1 [==============================] - 0s 17ms/step\n",
            "1/1 [==============================] - 0s 19ms/step\n",
            "1/1 [==============================] - 0s 17ms/step\n",
            "1/1 [==============================] - 0s 17ms/step\n",
            "1/1 [==============================] - 0s 18ms/step\n",
            "1/1 [==============================] - 0s 17ms/step\n",
            "1/1 [==============================] - 0s 17ms/step\n",
            "1/1 [==============================] - 0s 24ms/step\n",
            "1/1 [==============================] - 0s 18ms/step\n",
            "1/1 [==============================] - 0s 17ms/step\n",
            "1/1 [==============================] - 0s 16ms/step\n",
            "1/1 [==============================] - 0s 17ms/step\n",
            "1/1 [==============================] - 0s 22ms/step\n",
            "1/1 [==============================] - 0s 18ms/step\n",
            "1/1 [==============================] - 0s 16ms/step\n",
            "1/1 [==============================] - 0s 16ms/step\n",
            "1/1 [==============================] - 0s 16ms/step\n",
            "1/1 [==============================] - 0s 17ms/step\n",
            "1/1 [==============================] - 0s 15ms/step\n",
            "1/1 [==============================] - 0s 16ms/step\n",
            "1/1 [==============================] - 0s 16ms/step\n",
            "1/1 [==============================] - 0s 16ms/step\n",
            "1/1 [==============================] - 0s 22ms/step\n",
            "1/1 [==============================] - 0s 17ms/step\n",
            "1/1 [==============================] - 0s 17ms/step\n",
            "1/1 [==============================] - 0s 17ms/step\n",
            "1/1 [==============================] - 0s 17ms/step\n",
            "1/1 [==============================] - 0s 17ms/step\n",
            "1/1 [==============================] - 0s 18ms/step\n",
            "1/1 [==============================] - 0s 18ms/step\n",
            "1/1 [==============================] - 0s 17ms/step\n",
            "1/1 [==============================] - 0s 19ms/step\n",
            "1/1 [==============================] - 0s 22ms/step\n",
            "1/1 [==============================] - 0s 17ms/step\n",
            "1/1 [==============================] - 0s 21ms/step\n",
            "1/1 [==============================] - 0s 17ms/step\n",
            "1/1 [==============================] - 0s 16ms/step\n",
            "1/1 [==============================] - 0s 17ms/step\n",
            "1/1 [==============================] - 0s 16ms/step\n",
            "1/1 [==============================] - 0s 18ms/step\n",
            "1/1 [==============================] - 0s 31ms/step\n",
            "1/1 [==============================] - 0s 18ms/step\n",
            "1/1 [==============================] - 0s 17ms/step\n",
            "1/1 [==============================] - 0s 25ms/step\n",
            "1/1 [==============================] - 0s 21ms/step\n",
            "1/1 [==============================] - 0s 19ms/step\n",
            "1/1 [==============================] - 0s 30ms/step\n",
            "1/1 [==============================] - 0s 16ms/step\n",
            "1/1 [==============================] - 0s 20ms/step\n",
            "1/1 [==============================] - 0s 18ms/step\n",
            "1/1 [==============================] - 0s 19ms/step\n",
            "1/1 [==============================] - 0s 22ms/step\n",
            "1/1 [==============================] - 0s 17ms/step\n",
            "1/1 [==============================] - 0s 17ms/step\n",
            "1/1 [==============================] - 0s 17ms/step\n",
            "1/1 [==============================] - 0s 17ms/step\n",
            "1/1 [==============================] - 0s 20ms/step\n",
            "1/1 [==============================] - 0s 17ms/step\n",
            "1/1 [==============================] - 0s 18ms/step\n",
            "1/1 [==============================] - 0s 18ms/step\n",
            "1/1 [==============================] - 0s 22ms/step\n",
            "1/1 [==============================] - 0s 17ms/step\n",
            "1/1 [==============================] - 0s 17ms/step\n",
            "1/1 [==============================] - 0s 20ms/step\n",
            "1/1 [==============================] - 0s 18ms/step\n",
            "1/1 [==============================] - 0s 17ms/step\n",
            "1/1 [==============================] - 0s 17ms/step\n",
            "1/1 [==============================] - 0s 17ms/step\n",
            "1/1 [==============================] - 0s 18ms/step\n",
            "1/1 [==============================] - 0s 20ms/step\n",
            "1/1 [==============================] - 0s 17ms/step\n",
            "1/1 [==============================] - 0s 17ms/step\n",
            "1/1 [==============================] - 0s 32ms/step\n",
            "1/1 [==============================] - 0s 17ms/step\n",
            "1/1 [==============================] - 0s 18ms/step\n",
            "1/1 [==============================] - 0s 17ms/step\n",
            "1/1 [==============================] - 0s 23ms/step\n",
            "1/1 [==============================] - 0s 17ms/step\n",
            "1/1 [==============================] - 0s 20ms/step\n",
            "1/1 [==============================] - 0s 17ms/step\n",
            "1/1 [==============================] - 0s 17ms/step\n",
            "1/1 [==============================] - 0s 17ms/step\n",
            "1/1 [==============================] - 0s 17ms/step\n",
            "1/1 [==============================] - 0s 17ms/step\n",
            "1/1 [==============================] - 0s 17ms/step\n",
            "1/1 [==============================] - 0s 17ms/step\n",
            "1/1 [==============================] - 0s 24ms/step\n",
            "1/1 [==============================] - 0s 17ms/step\n",
            "1/1 [==============================] - 0s 17ms/step\n",
            "1/1 [==============================] - 0s 18ms/step\n",
            "1/1 [==============================] - 0s 18ms/step\n",
            "1/1 [==============================] - 0s 17ms/step\n",
            "1/1 [==============================] - 0s 17ms/step\n",
            "1/1 [==============================] - 0s 17ms/step\n",
            "1/1 [==============================] - 0s 19ms/step\n",
            "1/1 [==============================] - 0s 17ms/step\n",
            "1/1 [==============================] - 0s 17ms/step\n",
            "1/1 [==============================] - 0s 17ms/step\n",
            "1/1 [==============================] - 0s 16ms/step\n",
            "1/1 [==============================] - 0s 17ms/step\n",
            "1/1 [==============================] - 0s 18ms/step\n",
            "1/1 [==============================] - 0s 20ms/step\n",
            "1/1 [==============================] - 0s 18ms/step\n",
            "1/1 [==============================] - 0s 18ms/step\n",
            "1/1 [==============================] - 0s 18ms/step\n",
            "1/1 [==============================] - 0s 18ms/step\n",
            "1/1 [==============================] - 0s 17ms/step\n",
            "1/1 [==============================] - 0s 16ms/step\n",
            "1/1 [==============================] - 0s 17ms/step\n",
            "1/1 [==============================] - 0s 16ms/step\n",
            "1/1 [==============================] - 0s 17ms/step\n",
            "1/1 [==============================] - 0s 17ms/step\n",
            "1/1 [==============================] - 0s 17ms/step\n",
            "1/1 [==============================] - 0s 16ms/step\n",
            "1/1 [==============================] - 0s 17ms/step\n",
            "1/1 [==============================] - 0s 17ms/step\n",
            "1/1 [==============================] - 0s 17ms/step\n",
            "1/1 [==============================] - 0s 16ms/step\n",
            "1/1 [==============================] - 0s 17ms/step\n",
            "1/1 [==============================] - 0s 17ms/step\n",
            "1/1 [==============================] - 0s 19ms/step\n",
            "1/1 [==============================] - 0s 17ms/step\n",
            "1/1 [==============================] - 0s 18ms/step\n",
            "1/1 [==============================] - 0s 19ms/step\n",
            "1/1 [==============================] - 0s 16ms/step\n",
            "1/1 [==============================] - 0s 18ms/step\n",
            "1/1 [==============================] - 0s 21ms/step\n",
            "1/1 [==============================] - 0s 17ms/step\n",
            "1/1 [==============================] - 0s 17ms/step\n",
            "1/1 [==============================] - 0s 17ms/step\n",
            "1/1 [==============================] - 0s 24ms/step\n"
          ]
        }
      ]
    },
    {
      "cell_type": "code",
      "source": [
        "prediction_min = prediction_min.reshape((231,28))\n",
        "print(prediction_min)"
      ],
      "metadata": {
        "colab": {
          "base_uri": "https://localhost:8080/"
        },
        "id": "ERvdLMI4Sy_0",
        "outputId": "2422fb76-c6bd-4b0d-b370-a277f2b3d2b7"
      },
      "execution_count": 71,
      "outputs": [
        {
          "output_type": "stream",
          "name": "stdout",
          "text": [
            "[[0.37471646 0.40226915 0.38478214 ... 0.44766438 0.37471643 0.43526667]\n",
            " [0.37471646 0.58722764 0.59448874 ... 0.634728   0.47337276 0.5034712 ]\n",
            " [0.37471646 0.37471646 0.37471646 ... 0.37471643 0.37471643 0.37471643]\n",
            " ...\n",
            " [0.37471646 0.37471646 0.37471646 ... 0.37471643 0.37471643 0.37471643]\n",
            " [0.37471646 0.37471646 0.37471646 ... 0.37471643 0.37471643 0.37471643]\n",
            " [0.52177125 0.78886706 0.78039104 ... 0.5986508  0.7026339  0.7096479 ]]\n"
          ]
        }
      ]
    },
    {
      "cell_type": "code",
      "source": [
        "# prediction_max = []\n",
        "# col_index = 0\n",
        "# for j in range(8):\n",
        "#     col_index += 1\n",
        "#     X_max = np.copy(x_test)\n",
        "#     for i in range(len(x_test)):\n",
        "#       X_max[i][j] = max[j]\n",
        "#     _, accuracy = model.evaluate(X_max, y_test, verbose=0)\n",
        "#     predictions_sub_max = model.predict(X_max) \n",
        "#     if len(prediction_max) == 0:\n",
        "#       prediction_max = predictions_sub_max\n",
        "#     else:\n",
        "#       prediction_max = np.concatenate((prediction_max, predictions_sub_max), axis=1)\n",
        "# print(prediction_max)\n"
      ],
      "metadata": {
        "colab": {
          "base_uri": "https://localhost:8080/"
        },
        "id": "ys84h-5SKsBL",
        "outputId": "cb44899a-a246-4fb9-e424-0588373f451d"
      },
      "execution_count": 12,
      "outputs": [
        {
          "output_type": "stream",
          "name": "stdout",
          "text": [
            "8/8 [==============================] - 0s 3ms/step\n",
            "8/8 [==============================] - 0s 2ms/step\n",
            "8/8 [==============================] - 0s 2ms/step\n",
            "8/8 [==============================] - 0s 2ms/step\n",
            "8/8 [==============================] - 0s 2ms/step\n",
            "8/8 [==============================] - 0s 2ms/step\n",
            "8/8 [==============================] - 0s 2ms/step\n",
            "8/8 [==============================] - 0s 2ms/step\n",
            "[[0.76456237 0.83225536 0.56211346 ... 0.6984549  0.8352998  0.61648864]\n",
            " [0.8782758  0.85143375 0.7114288  ... 0.8427083  0.87367237 0.6952652 ]\n",
            " [0.7186236  0.70646447 0.42409658 ... 0.6163903  0.7362777  0.559118  ]\n",
            " ...\n",
            " [0.699509   0.65375006 0.37471643 ... 0.58837956 0.6385276  0.5073937 ]\n",
            " [0.6731979  0.7412198  0.40462    ... 0.5751436  0.70824903 0.5257909 ]\n",
            " [0.9481591  0.8853603  0.8171597  ... 0.8681339  0.918871   0.89821345]]\n"
          ]
        }
      ]
    },
    {
      "cell_type": "code",
      "source": [
        "# min = X.min()\n",
        "# #save a copy\n",
        "# X_preg_min = testX\n",
        "# for i in range(len(X)):\n",
        "#     X_preg_min.iloc[i][1] = min[0]\n",
        "# _, accuracy = model.evaluate(X_preg_min, y, verbose=0)\n",
        "# predictions_preg_min = model.predict(X_preg_min) \n",
        "# for i in range(5):\n",
        "# \tprint('%s => %s (expected %d)' % (X_preg_min.iloc[i].tolist(), predictions_preg_min[i], y.iloc[i]))\n"
      ],
      "metadata": {
        "id": "RtjwT1sY7b9h"
      },
      "execution_count": 13,
      "outputs": []
    },
    {
      "cell_type": "code",
      "source": [
        "# prediction_min = []\n",
        "# for j in range(8):\n",
        "#   X_min = np.copy(x_test)\n",
        "#   for i in range(len(x_test)):\n",
        "#     X_min[i][j] = min[j]\n",
        "#   _, accuracy = model.evaluate(X_min, y_test, verbose=0)\n",
        "#   predictions_sub_min = model.predict(X_min) \n",
        "#   if len(prediction_min) == 0:\n",
        "#     prediction_min = predictions_sub_min\n",
        "#   else:\n",
        "#     prediction_min = np.concatenate((prediction_min, predictions_sub_min), axis=1)\n",
        "# print(prediction_min)\n"
      ],
      "metadata": {
        "colab": {
          "base_uri": "https://localhost:8080/"
        },
        "id": "6AJG2egdRhHM",
        "outputId": "4563a40e-8de7-4da7-e92c-5afec9164ac6"
      },
      "execution_count": 14,
      "outputs": [
        {
          "output_type": "stream",
          "name": "stdout",
          "text": [
            "8/8 [==============================] - 0s 2ms/step\n",
            "8/8 [==============================] - 0s 2ms/step\n",
            "8/8 [==============================] - 0s 2ms/step\n",
            "8/8 [==============================] - 0s 2ms/step\n",
            "8/8 [==============================] - 0s 3ms/step\n",
            "8/8 [==============================] - 0s 2ms/step\n",
            "8/8 [==============================] - 0s 2ms/step\n",
            "8/8 [==============================] - 0s 3ms/step\n",
            "[[0.4116186  0.40951315 0.5209154  ... 0.44766438 0.53057474 0.43526667]\n",
            " [0.60851336 0.44478008 0.67618626 ... 0.6521392  0.6789499  0.52243143]\n",
            " [0.37471646 0.37471646 0.3841401  ... 0.37471646 0.3781798  0.37813255]\n",
            " ...\n",
            " [0.37471643 0.37471643 0.37471643 ... 0.37471643 0.37471643 0.37471643]\n",
            " [0.37471643 0.37471643 0.37471643 ... 0.37471643 0.37471643 0.37471643]\n",
            " [0.80527675 0.5217713  0.78886706 ... 0.7094729  0.7163906  0.8000574 ]]\n"
          ]
        }
      ]
    },
    {
      "cell_type": "code",
      "source": [
        "#pregreant difference\n",
        "result = np.subtract(prediction_max, prediction_min)\n",
        "print(result.shape)"
      ],
      "metadata": {
        "colab": {
          "base_uri": "https://localhost:8080/"
        },
        "id": "P9DQhFrpIFNu",
        "outputId": "549e107b-3287-4a51-c53b-195ba0e4fe25"
      },
      "execution_count": 72,
      "outputs": [
        {
          "output_type": "stream",
          "name": "stdout",
          "text": [
            "(231, 28)\n"
          ]
        }
      ]
    },
    {
      "cell_type": "code",
      "source": [
        "# heatmap_diff = pd.DataFrame(result, columns = ['Column_A','Column_B','Column_C'])\n",
        "# heatmap_diff = pd.DataFrame(result, columns = [data.columns[0:8]])\n",
        "heatmap_diff = pd.DataFrame(result)\n",
        "print(heatmap_diff)\n"
      ],
      "metadata": {
        "colab": {
          "base_uri": "https://localhost:8080/"
        },
        "id": "VEmKcoPYI5Vh",
        "outputId": "565dceb2-0419-42a5-8b2c-4c62404649e5"
      },
      "execution_count": 75,
      "outputs": [
        {
          "output_type": "stream",
          "name": "stdout",
          "text": [
            "           0         1         2         3         4         5         6   \\\n",
            "0    0.558675  0.384431  0.404824  0.530686  0.494649  0.503679  0.447301   \n",
            "1    0.565625  0.299092  0.303438  0.370956  0.375571  0.350052  0.451250   \n",
            "2    0.527449  0.363605  0.382200  0.523324  0.485549  0.504901  0.454605   \n",
            "3    0.550854  0.388237  0.403566  0.528192  0.487705  0.517812  0.469546   \n",
            "4    0.514461  0.315864  0.330787  0.499892  0.466823  0.472811  0.414038   \n",
            "..        ...       ...       ...       ...       ...       ...       ...   \n",
            "226  0.559649  0.302130  0.306646  0.373745  0.417127  0.383497  0.395110   \n",
            "227  0.554539  0.331138  0.338192  0.419283  0.465857  0.473135  0.398429   \n",
            "228  0.516252  0.337584  0.373227  0.516688  0.492866  0.471258  0.452312   \n",
            "229  0.532176  0.328163  0.339113  0.505639  0.450221  0.484854  0.419504   \n",
            "230  0.442387  0.161660  0.175915  0.279545  0.250628  0.257611  0.170899   \n",
            "\n",
            "           7         8         9   ...        18        19        20  \\\n",
            "0    0.449104  0.468772  0.558493  ...  0.331644  0.307873  0.375321   \n",
            "1    0.437938  0.444420  0.524174  ...  0.237968  0.228484  0.251594   \n",
            "2    0.351974  0.371110  0.513309  ...  0.352423  0.287336  0.425713   \n",
            "3    0.424907  0.425867  0.546235  ...  0.345472  0.294565  0.411744   \n",
            "4    0.352186  0.366015  0.513726  ...  0.328169  0.279389  0.378589   \n",
            "..        ...       ...       ...  ...       ...       ...       ...   \n",
            "226  0.458244  0.470478  0.561094  ...  0.263823  0.272890  0.311273   \n",
            "227  0.402494  0.417040  0.474821  ...  0.265627  0.272289  0.341268   \n",
            "228  0.295648  0.331748  0.488113  ...  0.305962  0.270936  0.343861   \n",
            "229  0.392146  0.401489  0.532581  ...  0.334710  0.246388  0.389852   \n",
            "230  0.396595  0.409905  0.560647  ...  0.244043  0.201153  0.246473   \n",
            "\n",
            "           21        22        23        24        25        26        27  \n",
            "0    0.242117  0.457520  0.447334  0.433596  0.438534  0.392412  0.435564  \n",
            "1    0.227749  0.309255  0.302267  0.383184  0.285367  0.369336  0.370201  \n",
            "2    0.232537  0.460734  0.541814  0.440731  0.450512  0.378797  0.449740  \n",
            "3    0.242753  0.475856  0.494224  0.431346  0.485453  0.382880  0.448313  \n",
            "4    0.196017  0.459224  0.528948  0.422288  0.431572  0.371952  0.420129  \n",
            "..        ...       ...       ...       ...       ...       ...       ...  \n",
            "226  0.217176  0.383699  0.376224  0.356507  0.385996  0.372741  0.366441  \n",
            "227  0.199185  0.384368  0.414119  0.317521  0.426479  0.347347  0.364014  \n",
            "228  0.192938  0.445516  0.505324  0.411634  0.399109  0.371214  0.391427  \n",
            "229  0.198411  0.441986  0.535737  0.425587  0.429529  0.342508  0.431550  \n",
            "230  0.131696  0.364848  0.366077  0.259543  0.338458  0.227371  0.244295  \n",
            "\n",
            "[231 rows x 28 columns]\n"
          ]
        }
      ]
    },
    {
      "cell_type": "code",
      "source": [
        "test_heat = heatmap_diff.iloc[0:5,:]\n",
        "print(test_heat)"
      ],
      "metadata": {
        "colab": {
          "base_uri": "https://localhost:8080/"
        },
        "id": "CsmFQ11XT4Nx",
        "outputId": "6896b7e9-d49f-472b-dd84-ad93b7028c1c"
      },
      "execution_count": 76,
      "outputs": [
        {
          "output_type": "stream",
          "name": "stdout",
          "text": [
            "         0         1         2         3         4         5         6   \\\n",
            "0  0.558675  0.384431  0.404824  0.530686  0.494649  0.503679  0.447301   \n",
            "1  0.565625  0.299092  0.303438  0.370956  0.375571  0.350052  0.451250   \n",
            "2  0.527449  0.363605  0.382200  0.523324  0.485549  0.504901  0.454605   \n",
            "3  0.550854  0.388237  0.403566  0.528192  0.487705  0.517812  0.469546   \n",
            "4  0.514461  0.315864  0.330787  0.499892  0.466823  0.472811  0.414038   \n",
            "\n",
            "         7         8         9   ...        18        19        20        21  \\\n",
            "0  0.449104  0.468772  0.558493  ...  0.331644  0.307873  0.375321  0.242117   \n",
            "1  0.437938  0.444420  0.524174  ...  0.237968  0.228484  0.251594  0.227749   \n",
            "2  0.351974  0.371110  0.513309  ...  0.352423  0.287336  0.425713  0.232537   \n",
            "3  0.424907  0.425867  0.546235  ...  0.345472  0.294565  0.411744  0.242753   \n",
            "4  0.352186  0.366015  0.513726  ...  0.328169  0.279389  0.378589  0.196017   \n",
            "\n",
            "         22        23        24        25        26        27  \n",
            "0  0.457520  0.447334  0.433596  0.438534  0.392412  0.435564  \n",
            "1  0.309255  0.302267  0.383184  0.285367  0.369336  0.370201  \n",
            "2  0.460734  0.541814  0.440731  0.450512  0.378797  0.449740  \n",
            "3  0.475856  0.494224  0.431346  0.485453  0.382880  0.448313  \n",
            "4  0.459224  0.528948  0.422288  0.431572  0.371952  0.420129  \n",
            "\n",
            "[5 rows x 28 columns]\n"
          ]
        }
      ]
    },
    {
      "cell_type": "code",
      "source": [
        "plt.figure(figsize=(10, 10))\n",
        "sns.set(font_scale=1.5)\n",
        "\n",
        "# sns.heatmap(heatmap_diff,\n",
        "#             cmap='coolwarm',\n",
        "#             annot=True,\n",
        "#             fmt='.5g',\n",
        "#             vmax=1)\n",
        "ax = sns.heatmap(test_heat,cmap = sns.color_palette(\"vlag\", as_cmap=True),vmin=-1, vmax=1)\n",
        "\n",
        "plt.xlabel('patient',fontsize=22)\n",
        "plt.ylabel('difference',fontsize=22)"
      ],
      "metadata": {
        "colab": {
          "base_uri": "https://localhost:8080/",
          "height": 651
        },
        "id": "8SonT0AEUK0L",
        "outputId": "72606376-aa4e-49c5-fd6f-5e065b1be28a"
      },
      "execution_count": 77,
      "outputs": [
        {
          "output_type": "execute_result",
          "data": {
            "text/plain": [
              "Text(58.5, 0.5, 'difference')"
            ]
          },
          "metadata": {},
          "execution_count": 77
        },
        {
          "output_type": "display_data",
          "data": {
            "text/plain": [
              "<Figure size 720x720 with 2 Axes>"
            ],
            "image/png": "[encoded data removed]"
          },
          "metadata": {}
        }
      ]
    },
    {
      "cell_type": "code",
      "source": [
        "plt.figure(figsize=(10, 10))\n",
        "sns.set(font_scale=1.5)\n",
        "\n",
        "# sns.heatmap(heatmap_diff,\n",
        "#             cmap='coolwarm',\n",
        "#             annot=True,\n",
        "#             fmt='.5g',\n",
        "#             vmax=1)\n",
        "# ax = sns.heatmap(heatmap_diff,cmap = sns.color_palette(\"vlag\", as_cmap=True), vmin=-1, vmax=1)\n",
        "ax = sns.heatmap(heatmap_diff,cmap = sns.color_palette(\"vlag\", as_cmap=True))\n",
        "\n",
        "plt.xlabel('patient',fontsize=22)\n",
        "plt.ylabel('difference',fontsize=22)"
      ],
      "metadata": {
        "colab": {
          "base_uri": "https://localhost:8080/",
          "height": 652
        },
        "id": "YZsseRoWJxV0",
        "outputId": "6f9fef04-7b1d-4f67-da4a-a08ec445c745"
      },
      "execution_count": 78,
      "outputs": [
        {
          "output_type": "execute_result",
          "data": {
            "text/plain": [
              "Text(58.5, 0.5, 'difference')"
            ]
          },
          "metadata": {},
          "execution_count": 78
        },
        {
          "output_type": "display_data",
          "data": {
            "text/plain": [
              "<Figure size 720x720 with 2 Axes>"
            ],
            "image/png": "[encoded data removed]"
          },
          "metadata": {}
        }
      ]
    },
    {
      "cell_type": "code",
      "source": [
        "print(heatmap_diff.iloc[187])"
      ],
      "metadata": {
        "colab": {
          "base_uri": "https://localhost:8080/"
        },
        "id": "tETuDnsdcPcT",
        "outputId": "b808dc65-721f-4b5e-e329-aa9720f6d00f"
      },
      "execution_count": 89,
      "outputs": [
        {
          "output_type": "stream",
          "name": "stdout",
          "text": [
            "0     0.102231\n",
            "1     0.025401\n",
            "2     0.035341\n",
            "3     0.108616\n",
            "4     0.035541\n",
            "5     0.092400\n",
            "6     0.031910\n",
            "7     0.066438\n",
            "8     0.085619\n",
            "9     0.282247\n",
            "10    0.107228\n",
            "11    0.346189\n",
            "12    0.083581\n",
            "13    0.015950\n",
            "14    0.075575\n",
            "15    0.017832\n",
            "16    0.058731\n",
            "17    0.016565\n",
            "18    0.112692\n",
            "19    0.029145\n",
            "20    0.067738\n",
            "21    0.026607\n",
            "22    0.106422\n",
            "23    0.200463\n",
            "24    0.093997\n",
            "25    0.096546\n",
            "26    0.027350\n",
            "27    0.074930\n",
            "Name: 187, dtype: float32\n"
          ]
        }
      ]
    },
    {
      "cell_type": "code",
      "source": [
        "import statsmodels.stats.api as sms\n",
        "x_test_df = pd.DataFrame(x_test, columns = [data.columns[0:8]])\n",
        "confid = x_test_df.apply(lambda x: sms.DescrStatsW(x).tconfint_mean())\n",
        "confindence_interval= confid.to_numpy()\n",
        "low_bd = confindence_interval[0]\n",
        "high_bd = confindence_interval[1]\n"
      ],
      "metadata": {
        "id": "t3cKEitNdHDS"
      },
      "execution_count": 20,
      "outputs": []
    },
    {
      "cell_type": "code",
      "source": [
        "prediction_high = []\n",
        "for j in range(8):\n",
        "  X_high = np.copy(x_test)\n",
        "  for i in range(len(x_test)):\n",
        "    X_high[i][j] = high_bd[j]\n",
        "  _, accuracy = model.evaluate(X_high, y_test, verbose=0)\n",
        "  predictions_sub_high = model.predict(X_high) \n",
        "  if len(prediction_high) == 0:\n",
        "    prediction_high = predictions_sub_high\n",
        "  else:\n",
        "    prediction_high = np.concatenate((prediction_high, predictions_sub_high), axis=1)\n",
        "print(prediction_high)\n"
      ],
      "metadata": {
        "colab": {
          "base_uri": "https://localhost:8080/"
        },
        "id": "zD72lvuIgWl2",
        "outputId": "75ece783-8081-4749-8a02-b89dbd21a92f"
      },
      "execution_count": 21,
      "outputs": [
        {
          "output_type": "stream",
          "name": "stdout",
          "text": [
            "8/8 [==============================] - 0s 2ms/step\n",
            "8/8 [==============================] - 0s 2ms/step\n",
            "8/8 [==============================] - 0s 2ms/step\n",
            "8/8 [==============================] - 0s 2ms/step\n",
            "8/8 [==============================] - 0s 2ms/step\n",
            "8/8 [==============================] - 0s 5ms/step\n",
            "8/8 [==============================] - 0s 2ms/step\n",
            "8/8 [==============================] - 0s 2ms/step\n",
            "[[0.50483257 0.6471704  0.5394956  ... 0.5374414  0.61285114 0.49278733]\n",
            " [0.6937429  0.679357   0.6923016  ... 0.72881407 0.7475921  0.57964784]\n",
            " [0.44500297 0.47083357 0.40193462 ... 0.44629544 0.45998067 0.43390417]\n",
            " ...\n",
            " [0.42224476 0.4110787  0.37471643 ... 0.41759977 0.37471643 0.3836827 ]\n",
            " [0.39273223 0.5143076  0.38279927 ... 0.40443096 0.41245338 0.40124804]\n",
            " [0.8590039  0.74163735 0.8019597  ... 0.7743393  0.78477347 0.83695936]]\n"
          ]
        }
      ]
    },
    {
      "cell_type": "code",
      "source": [
        "prediction_low = []\n",
        "for j in range(8):\n",
        "  X_low = np.copy(x_test)\n",
        "  for i in range(len(x_test)):\n",
        "    X_low[i][j] = low_bd[j]\n",
        "  _, accuracy = model.evaluate(X_low, y_test, verbose=0)\n",
        "  predictions_sub_low = model.predict(X_low) \n",
        "  if len(prediction_low) == 0:\n",
        "    prediction_low = predictions_sub_low\n",
        "  else:\n",
        "    prediction_low = np.concatenate((prediction_low, predictions_sub_low), axis=1)\n",
        "print(prediction_low)\n"
      ],
      "metadata": {
        "colab": {
          "base_uri": "https://localhost:8080/"
        },
        "id": "c_pWTlSXg5pa",
        "outputId": "cd70e2cc-7a8b-45e7-c1a7-5cfd7f9eec87"
      },
      "execution_count": 22,
      "outputs": [
        {
          "output_type": "stream",
          "name": "stdout",
          "text": [
            "8/8 [==============================] - 0s 2ms/step\n",
            "8/8 [==============================] - 0s 2ms/step\n",
            "8/8 [==============================] - 0s 2ms/step\n",
            "8/8 [==============================] - 0s 2ms/step\n",
            "8/8 [==============================] - 0s 2ms/step\n",
            "8/8 [==============================] - 0s 2ms/step\n",
            "8/8 [==============================] - 0s 2ms/step\n",
            "8/8 [==============================] - 0s 2ms/step\n",
            "[[0.48619646 0.6210027  0.53745574 ... 0.5255054  0.59578633 0.48064256]\n",
            " [0.67767715 0.65430135 0.69055045 ... 0.7192365  0.7338876  0.5677587 ]\n",
            " [0.42667237 0.44284683 0.3999632  ... 0.4344823  0.4423095  0.42200315]\n",
            " ...\n",
            " [0.40416887 0.38406584 0.37471643 ... 0.40598926 0.37471643 0.37510896]\n",
            " [0.37556565 0.48611054 0.380862   ... 0.39293954 0.39527163 0.38962626]\n",
            " [0.8494558  0.71956134 0.8005497  ... 0.7663302  0.77134615 0.8296952 ]]\n"
          ]
        }
      ]
    },
    {
      "cell_type": "code",
      "source": [
        "result_bd = np.subtract(prediction_high, prediction_low)\n",
        "print(result_bd.shape)"
      ],
      "metadata": {
        "colab": {
          "base_uri": "https://localhost:8080/"
        },
        "id": "Fi29rK1ThJIP",
        "outputId": "aeb37b4b-f3d4-4268-bb10-fd2d89afa790"
      },
      "execution_count": 23,
      "outputs": [
        {
          "output_type": "stream",
          "name": "stdout",
          "text": [
            "(231, 8)\n"
          ]
        }
      ]
    },
    {
      "cell_type": "code",
      "source": [
        "heatmap_bd_diff = pd.DataFrame(result_bd, columns = [data.columns[0:8]])\n",
        "print(heatmap_bd_diff)"
      ],
      "metadata": {
        "colab": {
          "base_uri": "https://localhost:8080/"
        },
        "id": "OaS4g_KRhTpS",
        "outputId": "fc745ab7-2f9e-4448-a6a8-92997b694ed7"
      },
      "execution_count": 24,
      "outputs": [
        {
          "output_type": "stream",
          "name": "stdout",
          "text": [
            "    Pregnancies   Glucose BloodPressure SkinThickness   Insulin       BMI  \\\n",
            "0      0.018636  0.026168      0.002040      0.002965  0.006752  0.011936   \n",
            "1      0.016066  0.025056      0.001751      0.002492  0.005657  0.009578   \n",
            "2      0.018331  0.027987      0.001971      0.002868  0.006547  0.011813   \n",
            "3      0.018623  0.027853      0.002047      0.002952  0.006764  0.011936   \n",
            "4      0.002921  0.027870      0.000000      0.000000  0.002389  0.011733   \n",
            "..          ...       ...           ...           ...       ...       ...   \n",
            "226    0.016193  0.026628      0.001881      0.002689  0.006109  0.011115   \n",
            "227    0.017342  0.023191      0.001855      0.002629  0.005972  0.011096   \n",
            "228    0.018076  0.027013      0.000000      0.000000  0.000000  0.011611   \n",
            "229    0.017167  0.028197      0.001937      0.002219  0.006432  0.011491   \n",
            "230    0.009548  0.022076      0.001410      0.001827  0.005545  0.008009   \n",
            "\n",
            "    DiabetesPedigreeFunction       Age  \n",
            "0                   0.017065  0.012145  \n",
            "1                   0.013704  0.011889  \n",
            "2                   0.017671  0.011901  \n",
            "3                   0.017745  0.012132  \n",
            "4                   0.014767  0.011539  \n",
            "..                       ...       ...  \n",
            "226                 0.015958  0.011516  \n",
            "227                 0.016775  0.010651  \n",
            "228                 0.000000  0.008574  \n",
            "229                 0.017182  0.011622  \n",
            "230                 0.013427  0.007264  \n",
            "\n",
            "[231 rows x 8 columns]\n"
          ]
        }
      ]
    },
    {
      "cell_type": "code",
      "source": [
        "plt.figure(figsize=(10, 10))\n",
        "sns.set(font_scale=1.5)\n",
        "\n",
        "# sns.heatmap(heatmap_diff,\n",
        "#             cmap='coolwarm',\n",
        "#             annot=True,\n",
        "#             fmt='.5g',\n",
        "#             vmax=1)\n",
        "# ax = sns.heatmap(heatmap_bd_diff,cmap = sns.color_palette(\"vlag\", as_cmap=True), vmin=-1, vmax=1)\n",
        "ax = sns.heatmap(heatmap_bd_diff,cmap = sns.color_palette(\"vlag\", as_cmap=True))\n",
        "\n",
        "plt.xlabel('patient',fontsize=22)\n",
        "plt.ylabel('difference',fontsize=22)"
      ],
      "metadata": {
        "colab": {
          "base_uri": "https://localhost:8080/",
          "height": 849
        },
        "id": "v6rWN2dDheqe",
        "outputId": "aeae49d4-e8c9-46fe-ade2-81003d105e0e"
      },
      "execution_count": 25,
      "outputs": [
        {
          "output_type": "execute_result",
          "data": {
            "text/plain": [
              "Text(58.5, 0.5, 'difference')"
            ]
          },
          "metadata": {},
          "execution_count": 25
        },
        {
          "output_type": "display_data",
          "data": {
            "text/plain": [
              "<Figure size 720x720 with 2 Axes>"
            ],
            "image/png": "[encoded data removed]"
          },
          "metadata": {}
        }
      ]
    }
  ]
}